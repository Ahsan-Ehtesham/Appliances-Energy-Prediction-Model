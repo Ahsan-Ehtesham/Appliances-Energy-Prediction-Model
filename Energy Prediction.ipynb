{
  "nbformat": 4,
  "nbformat_minor": 2,
  "metadata": {
    "accelerator": "GPU",
    "colab": {
      "name": "Energy Prediction.ipynb",
      "provenance": []
    },
    "interpreter": {
      "hash": "2e900c0cfb6a5dd5431ffb90806b8f4ad802fc711c116e3a2a7be17c673e7013"
    },
    "kernelspec": {
      "name": "python3",
      "display_name": "Python 3.9.1 64-bit"
    },
    "language_info": {
      "codemirror_mode": {
        "name": "ipython",
        "version": 3
      },
      "file_extension": ".py",
      "mimetype": "text/x-python",
      "name": "python",
      "nbconvert_exporter": "python",
      "pygments_lexer": "ipython3",
      "version": "3.9.1"
    }
  },
  "cells": [
    {
      "cell_type": "markdown",
      "source": [
        "# [Appliances Energy Prediction](https://www.kaggle.com/loveall/appliances-energy-prediction)\n",
        "## Data driven prediction of energy use of appliances\n",
        "\n",
        "### Experimental data used to create regression models of appliances energy use in a low energy building. <br/>\n",
        "Two random variables have been included in the data set for testing the regression models and to filter out non predictive attributes (parameters)."
      ],
      "metadata": {
        "id": "MjGNUqtXFNkz"
      }
    },
    {
      "cell_type": "markdown",
      "source": [
        "date time year-month-day hour:minute:second <br/>\n",
        "Appliances, energy use in Wh<br/>\n",
        "lights, energy use of light fixtures in the house in Wh<br/>\n",
        "T1, Temperature in kitchen area, in Celsius<br/>\n",
        "RH1, Humidity in kitchen area, in % <br/>\n",
        "T2, Temperature in living room area, in Celsius <br/>\n",
        "RH2, Humidity in living room area, in %<br/>\n",
        "T3, Temperature in laundry room area<br/>\n",
        "RH3, Humidity in laundry room area, in % <br/>\n",
        "T4, Temperature in office room, in Celsius <br/>\n",
        "RH4, Humidity in office room, in %<br/>\n",
        "T5, Temperature in bathroom, in Celsius<br/>\n",
        "RH5, Humidity in bathroom, in % <br/>\n",
        "T6, Temperature outside the building (north side), in Celsius <br/>\n",
        "RH6, Humidity outside the building (north side), in %<br/>\n",
        "T7, Temperature in ironing room , in Celsius<br/>\n",
        "RH7, Humidity in ironing room, in % <br/>\n",
        "T8, Temperature in teenager room 2, in Celsius <br/>\n",
        "RH8, Humidity in teenager room 2, in %<br/>\n",
        "T9, Temperature in parents room, in Celsius<br/>\n",
        "RH9, Humidity in parents room, in % <br/>\n",
        "To, Temperature outside (from Chievres weather station), in Celsius <br/>\n",
        "Pressure (from Chievres weather station), in mm Hg <br/>\n",
        "RHout, Humidity outside (from Chievres weather station), in %<br/>\n",
        "Wind speed (from Chievres weather station), in m/s<br/>\n",
        "Visibility (from Chievres weather station), in km<br/>\n",
        "Tdewpoint (from Chievres weather station), Â°C<br/>\n",
        "rv1, Random variable 1, nondimensional<br/>\n",
        "rv2, Random variable 2, nondimensional"
      ],
      "metadata": {
        "id": "xG2_j9YJFNlF"
      }
    },
    {
      "cell_type": "markdown",
      "source": [
        "## Importing Libraries\n"
      ],
      "metadata": {
        "id": "izsxw1MpFNlH"
      }
    },
    {
      "cell_type": "code",
      "execution_count": 1,
      "source": [
        "import pandas as pd\r\n",
        "import numpy as np\r\n",
        "from numpy import mean\r\n",
        "from numpy import std\r\n",
        "from numpy import absolute\r\n",
        "from sklearn.model_selection import LeaveOneOut\r\n",
        "from sklearn.model_selection import cross_val_score\r\n",
        "from sklearn.model_selection import train_test_split\r\n",
        "from sklearn.metrics import mean_absolute_error\r\n",
        "from sklearn.metrics import mean_squared_error\r\n",
        "# Models Applied\r\n",
        "from sklearn.linear_model import LinearRegression\r\n",
        "from sklearn.neighbors import KNeighborsRegressor\r\n",
        "from sklearn.svm import SVR\r\n",
        "from sklearn.ensemble import RandomForestRegressor"
      ],
      "outputs": [],
      "metadata": {
        "id": "WPTj4wc0FNlJ"
      }
    },
    {
      "cell_type": "markdown",
      "source": [
        "## Import Dataset"
      ],
      "metadata": {
        "id": "dSW2bow0FNlN"
      }
    },
    {
      "cell_type": "code",
      "execution_count": 2,
      "source": [
        "dataset_train=pd.read_csv('./train.csv')\r\n",
        "dataset_train_copy=dataset_train.copy()"
      ],
      "outputs": [],
      "metadata": {
        "id": "dX_t9OqwFNlO"
      }
    },
    {
      "cell_type": "code",
      "execution_count": 3,
      "source": [
        "dataset_train_copy.head()"
      ],
      "outputs": [
        {
          "output_type": "execute_result",
          "data": {
            "text/html": [
              "<div>\n",
              "<style scoped>\n",
              "    .dataframe tbody tr th:only-of-type {\n",
              "        vertical-align: middle;\n",
              "    }\n",
              "\n",
              "    .dataframe tbody tr th {\n",
              "        vertical-align: top;\n",
              "    }\n",
              "\n",
              "    .dataframe thead th {\n",
              "        text-align: right;\n",
              "    }\n",
              "</style>\n",
              "<table border=\"1\" class=\"dataframe\">\n",
              "  <thead>\n",
              "    <tr style=\"text-align: right;\">\n",
              "      <th></th>\n",
              "      <th>date</th>\n",
              "      <th>Appliances</th>\n",
              "      <th>lights</th>\n",
              "      <th>T1</th>\n",
              "      <th>RH_1</th>\n",
              "      <th>T2</th>\n",
              "      <th>RH_2</th>\n",
              "      <th>T3</th>\n",
              "      <th>RH_3</th>\n",
              "      <th>T4</th>\n",
              "      <th>...</th>\n",
              "      <th>T9</th>\n",
              "      <th>RH_9</th>\n",
              "      <th>T_out</th>\n",
              "      <th>Press_mm_hg</th>\n",
              "      <th>RH_out</th>\n",
              "      <th>Windspeed</th>\n",
              "      <th>Visibility</th>\n",
              "      <th>Tdewpoint</th>\n",
              "      <th>rv1</th>\n",
              "      <th>rv2</th>\n",
              "    </tr>\n",
              "  </thead>\n",
              "  <tbody>\n",
              "    <tr>\n",
              "      <th>0</th>\n",
              "      <td>2016-01-11 17:00:00</td>\n",
              "      <td>60</td>\n",
              "      <td>30</td>\n",
              "      <td>19.89</td>\n",
              "      <td>47.596667</td>\n",
              "      <td>19.2</td>\n",
              "      <td>44.790000</td>\n",
              "      <td>19.79</td>\n",
              "      <td>44.730000</td>\n",
              "      <td>19.000000</td>\n",
              "      <td>...</td>\n",
              "      <td>17.033333</td>\n",
              "      <td>45.53</td>\n",
              "      <td>6.600000</td>\n",
              "      <td>733.5</td>\n",
              "      <td>92.0</td>\n",
              "      <td>7.000000</td>\n",
              "      <td>63.000000</td>\n",
              "      <td>5.3</td>\n",
              "      <td>13.275433</td>\n",
              "      <td>13.275433</td>\n",
              "    </tr>\n",
              "    <tr>\n",
              "      <th>1</th>\n",
              "      <td>2016-01-11 17:10:00</td>\n",
              "      <td>60</td>\n",
              "      <td>30</td>\n",
              "      <td>19.89</td>\n",
              "      <td>46.693333</td>\n",
              "      <td>19.2</td>\n",
              "      <td>44.722500</td>\n",
              "      <td>19.79</td>\n",
              "      <td>44.790000</td>\n",
              "      <td>19.000000</td>\n",
              "      <td>...</td>\n",
              "      <td>17.066667</td>\n",
              "      <td>45.56</td>\n",
              "      <td>6.483333</td>\n",
              "      <td>733.6</td>\n",
              "      <td>92.0</td>\n",
              "      <td>6.666667</td>\n",
              "      <td>59.166667</td>\n",
              "      <td>5.2</td>\n",
              "      <td>18.606195</td>\n",
              "      <td>18.606195</td>\n",
              "    </tr>\n",
              "    <tr>\n",
              "      <th>2</th>\n",
              "      <td>2016-01-11 17:20:00</td>\n",
              "      <td>50</td>\n",
              "      <td>30</td>\n",
              "      <td>19.89</td>\n",
              "      <td>46.300000</td>\n",
              "      <td>19.2</td>\n",
              "      <td>44.626667</td>\n",
              "      <td>19.79</td>\n",
              "      <td>44.933333</td>\n",
              "      <td>18.926667</td>\n",
              "      <td>...</td>\n",
              "      <td>17.000000</td>\n",
              "      <td>45.50</td>\n",
              "      <td>6.366667</td>\n",
              "      <td>733.7</td>\n",
              "      <td>92.0</td>\n",
              "      <td>6.333333</td>\n",
              "      <td>55.333333</td>\n",
              "      <td>5.1</td>\n",
              "      <td>28.642668</td>\n",
              "      <td>28.642668</td>\n",
              "    </tr>\n",
              "    <tr>\n",
              "      <th>3</th>\n",
              "      <td>2016-01-11 17:30:00</td>\n",
              "      <td>50</td>\n",
              "      <td>40</td>\n",
              "      <td>19.89</td>\n",
              "      <td>46.066667</td>\n",
              "      <td>19.2</td>\n",
              "      <td>44.590000</td>\n",
              "      <td>19.79</td>\n",
              "      <td>45.000000</td>\n",
              "      <td>18.890000</td>\n",
              "      <td>...</td>\n",
              "      <td>17.000000</td>\n",
              "      <td>45.40</td>\n",
              "      <td>6.250000</td>\n",
              "      <td>733.8</td>\n",
              "      <td>92.0</td>\n",
              "      <td>6.000000</td>\n",
              "      <td>51.500000</td>\n",
              "      <td>5.0</td>\n",
              "      <td>45.410389</td>\n",
              "      <td>45.410389</td>\n",
              "    </tr>\n",
              "    <tr>\n",
              "      <th>4</th>\n",
              "      <td>2016-01-11 17:40:00</td>\n",
              "      <td>60</td>\n",
              "      <td>40</td>\n",
              "      <td>19.89</td>\n",
              "      <td>46.333333</td>\n",
              "      <td>19.2</td>\n",
              "      <td>44.530000</td>\n",
              "      <td>19.79</td>\n",
              "      <td>45.000000</td>\n",
              "      <td>18.890000</td>\n",
              "      <td>...</td>\n",
              "      <td>17.000000</td>\n",
              "      <td>45.40</td>\n",
              "      <td>6.133333</td>\n",
              "      <td>733.9</td>\n",
              "      <td>92.0</td>\n",
              "      <td>5.666667</td>\n",
              "      <td>47.666667</td>\n",
              "      <td>4.9</td>\n",
              "      <td>10.084097</td>\n",
              "      <td>10.084097</td>\n",
              "    </tr>\n",
              "  </tbody>\n",
              "</table>\n",
              "<p>5 rows × 29 columns</p>\n",
              "</div>"
            ],
            "text/plain": [
              "                  date  Appliances  lights     T1       RH_1    T2       RH_2  \\\n",
              "0  2016-01-11 17:00:00          60      30  19.89  47.596667  19.2  44.790000   \n",
              "1  2016-01-11 17:10:00          60      30  19.89  46.693333  19.2  44.722500   \n",
              "2  2016-01-11 17:20:00          50      30  19.89  46.300000  19.2  44.626667   \n",
              "3  2016-01-11 17:30:00          50      40  19.89  46.066667  19.2  44.590000   \n",
              "4  2016-01-11 17:40:00          60      40  19.89  46.333333  19.2  44.530000   \n",
              "\n",
              "      T3       RH_3         T4  ...         T9   RH_9     T_out  Press_mm_hg  \\\n",
              "0  19.79  44.730000  19.000000  ...  17.033333  45.53  6.600000        733.5   \n",
              "1  19.79  44.790000  19.000000  ...  17.066667  45.56  6.483333        733.6   \n",
              "2  19.79  44.933333  18.926667  ...  17.000000  45.50  6.366667        733.7   \n",
              "3  19.79  45.000000  18.890000  ...  17.000000  45.40  6.250000        733.8   \n",
              "4  19.79  45.000000  18.890000  ...  17.000000  45.40  6.133333        733.9   \n",
              "\n",
              "   RH_out  Windspeed  Visibility  Tdewpoint        rv1        rv2  \n",
              "0    92.0   7.000000   63.000000        5.3  13.275433  13.275433  \n",
              "1    92.0   6.666667   59.166667        5.2  18.606195  18.606195  \n",
              "2    92.0   6.333333   55.333333        5.1  28.642668  28.642668  \n",
              "3    92.0   6.000000   51.500000        5.0  45.410389  45.410389  \n",
              "4    92.0   5.666667   47.666667        4.9  10.084097  10.084097  \n",
              "\n",
              "[5 rows x 29 columns]"
            ]
          },
          "metadata": {},
          "execution_count": 3
        }
      ],
      "metadata": {
        "colab": {
          "base_uri": "https://localhost:8080/",
          "height": 391
        },
        "id": "tboS43yvFNlP",
        "outputId": "461183e9-054d-4708-d0bb-84a1f69c75db"
      }
    },
    {
      "cell_type": "code",
      "execution_count": 4,
      "source": [
        "dataset_train_copy.describe()"
      ],
      "outputs": [
        {
          "output_type": "execute_result",
          "data": {
            "text/html": [
              "<div>\n",
              "<style scoped>\n",
              "    .dataframe tbody tr th:only-of-type {\n",
              "        vertical-align: middle;\n",
              "    }\n",
              "\n",
              "    .dataframe tbody tr th {\n",
              "        vertical-align: top;\n",
              "    }\n",
              "\n",
              "    .dataframe thead th {\n",
              "        text-align: right;\n",
              "    }\n",
              "</style>\n",
              "<table border=\"1\" class=\"dataframe\">\n",
              "  <thead>\n",
              "    <tr style=\"text-align: right;\">\n",
              "      <th></th>\n",
              "      <th>Appliances</th>\n",
              "      <th>lights</th>\n",
              "      <th>T1</th>\n",
              "      <th>RH_1</th>\n",
              "      <th>T2</th>\n",
              "      <th>RH_2</th>\n",
              "      <th>T3</th>\n",
              "      <th>RH_3</th>\n",
              "      <th>T4</th>\n",
              "      <th>RH_4</th>\n",
              "      <th>...</th>\n",
              "      <th>T9</th>\n",
              "      <th>RH_9</th>\n",
              "      <th>T_out</th>\n",
              "      <th>Press_mm_hg</th>\n",
              "      <th>RH_out</th>\n",
              "      <th>Windspeed</th>\n",
              "      <th>Visibility</th>\n",
              "      <th>Tdewpoint</th>\n",
              "      <th>rv1</th>\n",
              "      <th>rv2</th>\n",
              "    </tr>\n",
              "  </thead>\n",
              "  <tbody>\n",
              "    <tr>\n",
              "      <th>count</th>\n",
              "      <td>19735.000000</td>\n",
              "      <td>19735.000000</td>\n",
              "      <td>19735.000000</td>\n",
              "      <td>19735.000000</td>\n",
              "      <td>19735.000000</td>\n",
              "      <td>19735.000000</td>\n",
              "      <td>19735.000000</td>\n",
              "      <td>19735.000000</td>\n",
              "      <td>19735.000000</td>\n",
              "      <td>19735.000000</td>\n",
              "      <td>...</td>\n",
              "      <td>19735.000000</td>\n",
              "      <td>19735.000000</td>\n",
              "      <td>19735.000000</td>\n",
              "      <td>19735.000000</td>\n",
              "      <td>19735.000000</td>\n",
              "      <td>19735.000000</td>\n",
              "      <td>19735.000000</td>\n",
              "      <td>19735.000000</td>\n",
              "      <td>19735.000000</td>\n",
              "      <td>19735.000000</td>\n",
              "    </tr>\n",
              "    <tr>\n",
              "      <th>mean</th>\n",
              "      <td>97.694958</td>\n",
              "      <td>3.801875</td>\n",
              "      <td>21.686571</td>\n",
              "      <td>40.259739</td>\n",
              "      <td>20.341219</td>\n",
              "      <td>40.420420</td>\n",
              "      <td>22.267611</td>\n",
              "      <td>39.242500</td>\n",
              "      <td>20.855335</td>\n",
              "      <td>39.026904</td>\n",
              "      <td>...</td>\n",
              "      <td>19.485828</td>\n",
              "      <td>41.552401</td>\n",
              "      <td>7.411665</td>\n",
              "      <td>755.522602</td>\n",
              "      <td>79.750418</td>\n",
              "      <td>4.039752</td>\n",
              "      <td>38.330834</td>\n",
              "      <td>3.760707</td>\n",
              "      <td>24.988033</td>\n",
              "      <td>24.988033</td>\n",
              "    </tr>\n",
              "    <tr>\n",
              "      <th>std</th>\n",
              "      <td>102.524891</td>\n",
              "      <td>7.935988</td>\n",
              "      <td>1.606066</td>\n",
              "      <td>3.979299</td>\n",
              "      <td>2.192974</td>\n",
              "      <td>4.069813</td>\n",
              "      <td>2.006111</td>\n",
              "      <td>3.254576</td>\n",
              "      <td>2.042884</td>\n",
              "      <td>4.341321</td>\n",
              "      <td>...</td>\n",
              "      <td>2.014712</td>\n",
              "      <td>4.151497</td>\n",
              "      <td>5.317409</td>\n",
              "      <td>7.399441</td>\n",
              "      <td>14.901088</td>\n",
              "      <td>2.451221</td>\n",
              "      <td>11.794719</td>\n",
              "      <td>4.194648</td>\n",
              "      <td>14.496634</td>\n",
              "      <td>14.496634</td>\n",
              "    </tr>\n",
              "    <tr>\n",
              "      <th>min</th>\n",
              "      <td>10.000000</td>\n",
              "      <td>0.000000</td>\n",
              "      <td>16.790000</td>\n",
              "      <td>27.023333</td>\n",
              "      <td>16.100000</td>\n",
              "      <td>20.463333</td>\n",
              "      <td>17.200000</td>\n",
              "      <td>28.766667</td>\n",
              "      <td>15.100000</td>\n",
              "      <td>27.660000</td>\n",
              "      <td>...</td>\n",
              "      <td>14.890000</td>\n",
              "      <td>29.166667</td>\n",
              "      <td>-5.000000</td>\n",
              "      <td>729.300000</td>\n",
              "      <td>24.000000</td>\n",
              "      <td>0.000000</td>\n",
              "      <td>1.000000</td>\n",
              "      <td>-6.600000</td>\n",
              "      <td>0.005322</td>\n",
              "      <td>0.005322</td>\n",
              "    </tr>\n",
              "    <tr>\n",
              "      <th>25%</th>\n",
              "      <td>50.000000</td>\n",
              "      <td>0.000000</td>\n",
              "      <td>20.760000</td>\n",
              "      <td>37.333333</td>\n",
              "      <td>18.790000</td>\n",
              "      <td>37.900000</td>\n",
              "      <td>20.790000</td>\n",
              "      <td>36.900000</td>\n",
              "      <td>19.530000</td>\n",
              "      <td>35.530000</td>\n",
              "      <td>...</td>\n",
              "      <td>18.000000</td>\n",
              "      <td>38.500000</td>\n",
              "      <td>3.666667</td>\n",
              "      <td>750.933333</td>\n",
              "      <td>70.333333</td>\n",
              "      <td>2.000000</td>\n",
              "      <td>29.000000</td>\n",
              "      <td>0.900000</td>\n",
              "      <td>12.497889</td>\n",
              "      <td>12.497889</td>\n",
              "    </tr>\n",
              "    <tr>\n",
              "      <th>50%</th>\n",
              "      <td>60.000000</td>\n",
              "      <td>0.000000</td>\n",
              "      <td>21.600000</td>\n",
              "      <td>39.656667</td>\n",
              "      <td>20.000000</td>\n",
              "      <td>40.500000</td>\n",
              "      <td>22.100000</td>\n",
              "      <td>38.530000</td>\n",
              "      <td>20.666667</td>\n",
              "      <td>38.400000</td>\n",
              "      <td>...</td>\n",
              "      <td>19.390000</td>\n",
              "      <td>40.900000</td>\n",
              "      <td>6.916667</td>\n",
              "      <td>756.100000</td>\n",
              "      <td>83.666667</td>\n",
              "      <td>3.666667</td>\n",
              "      <td>40.000000</td>\n",
              "      <td>3.433333</td>\n",
              "      <td>24.897653</td>\n",
              "      <td>24.897653</td>\n",
              "    </tr>\n",
              "    <tr>\n",
              "      <th>75%</th>\n",
              "      <td>100.000000</td>\n",
              "      <td>0.000000</td>\n",
              "      <td>22.600000</td>\n",
              "      <td>43.066667</td>\n",
              "      <td>21.500000</td>\n",
              "      <td>43.260000</td>\n",
              "      <td>23.290000</td>\n",
              "      <td>41.760000</td>\n",
              "      <td>22.100000</td>\n",
              "      <td>42.156667</td>\n",
              "      <td>...</td>\n",
              "      <td>20.600000</td>\n",
              "      <td>44.338095</td>\n",
              "      <td>10.408333</td>\n",
              "      <td>760.933333</td>\n",
              "      <td>91.666667</td>\n",
              "      <td>5.500000</td>\n",
              "      <td>40.000000</td>\n",
              "      <td>6.566667</td>\n",
              "      <td>37.583769</td>\n",
              "      <td>37.583769</td>\n",
              "    </tr>\n",
              "    <tr>\n",
              "      <th>max</th>\n",
              "      <td>1080.000000</td>\n",
              "      <td>70.000000</td>\n",
              "      <td>26.260000</td>\n",
              "      <td>63.360000</td>\n",
              "      <td>29.856667</td>\n",
              "      <td>56.026667</td>\n",
              "      <td>29.236000</td>\n",
              "      <td>50.163333</td>\n",
              "      <td>26.200000</td>\n",
              "      <td>51.090000</td>\n",
              "      <td>...</td>\n",
              "      <td>24.500000</td>\n",
              "      <td>53.326667</td>\n",
              "      <td>26.100000</td>\n",
              "      <td>772.300000</td>\n",
              "      <td>100.000000</td>\n",
              "      <td>14.000000</td>\n",
              "      <td>66.000000</td>\n",
              "      <td>15.500000</td>\n",
              "      <td>49.996530</td>\n",
              "      <td>49.996530</td>\n",
              "    </tr>\n",
              "  </tbody>\n",
              "</table>\n",
              "<p>8 rows × 28 columns</p>\n",
              "</div>"
            ],
            "text/plain": [
              "         Appliances        lights            T1          RH_1            T2  \\\n",
              "count  19735.000000  19735.000000  19735.000000  19735.000000  19735.000000   \n",
              "mean      97.694958      3.801875     21.686571     40.259739     20.341219   \n",
              "std      102.524891      7.935988      1.606066      3.979299      2.192974   \n",
              "min       10.000000      0.000000     16.790000     27.023333     16.100000   \n",
              "25%       50.000000      0.000000     20.760000     37.333333     18.790000   \n",
              "50%       60.000000      0.000000     21.600000     39.656667     20.000000   \n",
              "75%      100.000000      0.000000     22.600000     43.066667     21.500000   \n",
              "max     1080.000000     70.000000     26.260000     63.360000     29.856667   \n",
              "\n",
              "               RH_2            T3          RH_3            T4          RH_4  \\\n",
              "count  19735.000000  19735.000000  19735.000000  19735.000000  19735.000000   \n",
              "mean      40.420420     22.267611     39.242500     20.855335     39.026904   \n",
              "std        4.069813      2.006111      3.254576      2.042884      4.341321   \n",
              "min       20.463333     17.200000     28.766667     15.100000     27.660000   \n",
              "25%       37.900000     20.790000     36.900000     19.530000     35.530000   \n",
              "50%       40.500000     22.100000     38.530000     20.666667     38.400000   \n",
              "75%       43.260000     23.290000     41.760000     22.100000     42.156667   \n",
              "max       56.026667     29.236000     50.163333     26.200000     51.090000   \n",
              "\n",
              "       ...            T9          RH_9         T_out   Press_mm_hg  \\\n",
              "count  ...  19735.000000  19735.000000  19735.000000  19735.000000   \n",
              "mean   ...     19.485828     41.552401      7.411665    755.522602   \n",
              "std    ...      2.014712      4.151497      5.317409      7.399441   \n",
              "min    ...     14.890000     29.166667     -5.000000    729.300000   \n",
              "25%    ...     18.000000     38.500000      3.666667    750.933333   \n",
              "50%    ...     19.390000     40.900000      6.916667    756.100000   \n",
              "75%    ...     20.600000     44.338095     10.408333    760.933333   \n",
              "max    ...     24.500000     53.326667     26.100000    772.300000   \n",
              "\n",
              "             RH_out     Windspeed    Visibility     Tdewpoint           rv1  \\\n",
              "count  19735.000000  19735.000000  19735.000000  19735.000000  19735.000000   \n",
              "mean      79.750418      4.039752     38.330834      3.760707     24.988033   \n",
              "std       14.901088      2.451221     11.794719      4.194648     14.496634   \n",
              "min       24.000000      0.000000      1.000000     -6.600000      0.005322   \n",
              "25%       70.333333      2.000000     29.000000      0.900000     12.497889   \n",
              "50%       83.666667      3.666667     40.000000      3.433333     24.897653   \n",
              "75%       91.666667      5.500000     40.000000      6.566667     37.583769   \n",
              "max      100.000000     14.000000     66.000000     15.500000     49.996530   \n",
              "\n",
              "                rv2  \n",
              "count  19735.000000  \n",
              "mean      24.988033  \n",
              "std       14.496634  \n",
              "min        0.005322  \n",
              "25%       12.497889  \n",
              "50%       24.897653  \n",
              "75%       37.583769  \n",
              "max       49.996530  \n",
              "\n",
              "[8 rows x 28 columns]"
            ]
          },
          "metadata": {},
          "execution_count": 4
        }
      ],
      "metadata": {
        "colab": {
          "base_uri": "https://localhost:8080/",
          "height": 315
        },
        "id": "ybB-Jm-FFNlS",
        "outputId": "ebe465c6-b089-4d7c-bab1-c76e78b7ea45"
      }
    },
    {
      "cell_type": "code",
      "execution_count": 5,
      "source": [
        "dataset_train_copy.info()"
      ],
      "outputs": [
        {
          "output_type": "stream",
          "name": "stdout",
          "text": [
            "<class 'pandas.core.frame.DataFrame'>\n",
            "RangeIndex: 19735 entries, 0 to 19734\n",
            "Data columns (total 29 columns):\n",
            " #   Column       Non-Null Count  Dtype  \n",
            "---  ------       --------------  -----  \n",
            " 0   date         19735 non-null  object \n",
            " 1   Appliances   19735 non-null  int64  \n",
            " 2   lights       19735 non-null  int64  \n",
            " 3   T1           19735 non-null  float64\n",
            " 4   RH_1         19735 non-null  float64\n",
            " 5   T2           19735 non-null  float64\n",
            " 6   RH_2         19735 non-null  float64\n",
            " 7   T3           19735 non-null  float64\n",
            " 8   RH_3         19735 non-null  float64\n",
            " 9   T4           19735 non-null  float64\n",
            " 10  RH_4         19735 non-null  float64\n",
            " 11  T5           19735 non-null  float64\n",
            " 12  RH_5         19735 non-null  float64\n",
            " 13  T6           19735 non-null  float64\n",
            " 14  RH_6         19735 non-null  float64\n",
            " 15  T7           19735 non-null  float64\n",
            " 16  RH_7         19735 non-null  float64\n",
            " 17  T8           19735 non-null  float64\n",
            " 18  RH_8         19735 non-null  float64\n",
            " 19  T9           19735 non-null  float64\n",
            " 20  RH_9         19735 non-null  float64\n",
            " 21  T_out        19735 non-null  float64\n",
            " 22  Press_mm_hg  19735 non-null  float64\n",
            " 23  RH_out       19735 non-null  float64\n",
            " 24  Windspeed    19735 non-null  float64\n",
            " 25  Visibility   19735 non-null  float64\n",
            " 26  Tdewpoint    19735 non-null  float64\n",
            " 27  rv1          19735 non-null  float64\n",
            " 28  rv2          19735 non-null  float64\n",
            "dtypes: float64(26), int64(2), object(1)\n",
            "memory usage: 4.4+ MB\n"
          ]
        }
      ],
      "metadata": {
        "colab": {
          "base_uri": "https://localhost:8080/"
        },
        "id": "9jwlNsqdFNlU",
        "outputId": "2ed17c02-e365-44af-b59b-0ff1a16e3032"
      }
    },
    {
      "cell_type": "markdown",
      "source": [
        "## Data Preprocessing"
      ],
      "metadata": {
        "id": "Y-tZ6cGzFNlW"
      }
    },
    {
      "cell_type": "code",
      "execution_count": 6,
      "source": [
        "# Check for NaN data\r\n",
        "display(dataset_train_copy.isnull().sum())"
      ],
      "outputs": [
        {
          "output_type": "display_data",
          "data": {
            "text/plain": [
              "date           0\n",
              "Appliances     0\n",
              "lights         0\n",
              "T1             0\n",
              "RH_1           0\n",
              "T2             0\n",
              "RH_2           0\n",
              "T3             0\n",
              "RH_3           0\n",
              "T4             0\n",
              "RH_4           0\n",
              "T5             0\n",
              "RH_5           0\n",
              "T6             0\n",
              "RH_6           0\n",
              "T7             0\n",
              "RH_7           0\n",
              "T8             0\n",
              "RH_8           0\n",
              "T9             0\n",
              "RH_9           0\n",
              "T_out          0\n",
              "Press_mm_hg    0\n",
              "RH_out         0\n",
              "Windspeed      0\n",
              "Visibility     0\n",
              "Tdewpoint      0\n",
              "rv1            0\n",
              "rv2            0\n",
              "dtype: int64"
            ]
          },
          "metadata": {}
        }
      ],
      "metadata": {
        "colab": {
          "base_uri": "https://localhost:8080/",
          "height": 545
        },
        "id": "C-cLsyQ8FNlX",
        "outputId": "1668c19a-ca4a-4851-d119-fb57193de527"
      }
    },
    {
      "cell_type": "code",
      "execution_count": 7,
      "source": [
        "corr=dataset_train_copy.corr()[\"Appliances\"].abs().sort_values(ascending=False)\r\n",
        "corr"
      ],
      "outputs": [
        {
          "output_type": "execute_result",
          "data": {
            "text/plain": [
              "Appliances     1.000000\n",
              "lights         0.197278\n",
              "RH_out         0.152282\n",
              "T2             0.120073\n",
              "T6             0.117638\n",
              "T_out          0.099155\n",
              "RH_8           0.094039\n",
              "Windspeed      0.087122\n",
              "RH_1           0.086031\n",
              "T3             0.085060\n",
              "RH_6           0.083178\n",
              "RH_2           0.060465\n",
              "RH_7           0.055642\n",
              "T1             0.055447\n",
              "RH_9           0.051462\n",
              "T4             0.040281\n",
              "T8             0.039572\n",
              "RH_3           0.036292\n",
              "Press_mm_hg    0.034885\n",
              "T7             0.025801\n",
              "T5             0.019760\n",
              "RH_4           0.016965\n",
              "Tdewpoint      0.015353\n",
              "rv1            0.011145\n",
              "rv2            0.011145\n",
              "T9             0.010010\n",
              "RH_5           0.006955\n",
              "Visibility     0.000230\n",
              "Name: Appliances, dtype: float64"
            ]
          },
          "metadata": {},
          "execution_count": 7
        }
      ],
      "metadata": {
        "colab": {
          "base_uri": "https://localhost:8080/"
        },
        "id": "WLpBstTuFNlY",
        "outputId": "da6b4a75-f1f0-4f10-a098-e00073e1e223"
      }
    },
    {
      "cell_type": "markdown",
      "source": [
        "### Training and Evaluating on the Training Set"
      ],
      "metadata": {}
    },
    {
      "cell_type": "code",
      "execution_count": 8,
      "source": [
        "#split dataset in features and target variable\r\n",
        "feature_cols = ['RH_out','T2',\r\n",
        "'T6','T_out','RH_8','Windspeed','RH_1',\r\n",
        "'T3','RH_6','RH_2'\r\n",
        "]\r\n",
        "X = dataset_train_copy[feature_cols] # Features\r\n",
        "y = dataset_train_copy.Appliances # Target variable"
      ],
      "outputs": [],
      "metadata": {
        "id": "ZLnBUNsNFNla"
      }
    },
    {
      "cell_type": "code",
      "execution_count": 9,
      "source": [
        "# Split dataset into training set and test set\r\n",
        "X_train, X_test, y_train, y_test = train_test_split(X,y, test_size=0.2, random_state=42) # 80% training and 20% test"
      ],
      "outputs": [],
      "metadata": {
        "id": "dAVqpObmFNle"
      }
    },
    {
      "cell_type": "markdown",
      "source": [
        "### Feature scaling"
      ],
      "metadata": {
        "id": "cI2_6TmA9RcL"
      }
    },
    {
      "cell_type": "code",
      "execution_count": 10,
      "source": [
        "from sklearn.preprocessing import RobustScaler\r\n",
        "scaler = RobustScaler()\r\n",
        "X_train = scaler.fit_transform(X_train)\r\n",
        "X_test = scaler.transform(X_test)"
      ],
      "outputs": [],
      "metadata": {
        "id": "TQ9FkIOMFNld"
      }
    },
    {
      "cell_type": "code",
      "execution_count": 11,
      "source": [
        "def mean_relative_error(y_test,y_pred):\r\n",
        "    error = 0\r\n",
        "    n=len(y_test)\r\n",
        "    for i in range(n):\r\n",
        "        error += (abs(y_pred[i]-y_test[i])/y_test[i])\r\n",
        "    return error/n"
      ],
      "outputs": [],
      "metadata": {
        "id": "5BR8Z1oaFNlf"
      }
    },
    {
      "cell_type": "markdown",
      "source": [
        "## Select and Train a Model"
      ],
      "metadata": {}
    },
    {
      "cell_type": "code",
      "execution_count": 12,
      "source": [
        "# Linear Regression\r\n",
        "# create loocv procedure\r\n",
        "cv = LeaveOneOut()\r\n",
        "reg = LinearRegression().fit(X_train, y_train)\r\n",
        "reg_pred = reg.predict(X_test)\r\n",
        "print(\"Training set score: {:.2f}\".format(reg.score(X_train, y_train)))\r\n",
        "print(\"Test set score: {:.2f}\".format(reg.score(X_test, y_test)))\r\n",
        "print(\"Test set R^2: {:.2f}\".format(reg.score(X_test, y_test)))\r\n",
        "# evaluate model\r\n",
        "scores = cross_val_score(\r\n",
        "    reg,\r\n",
        "    X_train,\r\n",
        "    y_train,\r\n",
        "    scoring=\"neg_mean_absolute_error\",\r\n",
        "    cv=cv\r\n",
        ")\r\n",
        "# force positive\r\n",
        "scores = absolute(scores)\r\n",
        "# report performance\r\n",
        "print('MAE: %.3f (%.3f)' % (mean(scores), std(scores)))\r\n",
        "print(\"RMSE: {:.2f}\".format(mean_squared_error(y_test, reg_pred, squared=False)))"
      ],
      "outputs": [
        {
          "output_type": "stream",
          "name": "stdout",
          "text": [
            "Training set score: 0.12\n",
            "Test set score: 0.11\n",
            "Test set R^2: 0.11\n",
            "MAE: 55.362 (79.324)\n",
            "RMSE: 94.15\n"
          ]
        }
      ],
      "metadata": {
        "colab": {
          "base_uri": "https://localhost:8080/"
        },
        "id": "9nqzKO3BFNlg",
        "outputId": "b440891b-20d3-422e-c856-68364ea9a05e"
      }
    },
    {
      "cell_type": "code",
      "execution_count": 13,
      "source": [
        "# KNN Regressor\r\n",
        "neigh = KNeighborsRegressor(n_neighbors=5)\r\n",
        "neigh = neigh.fit(X_train, y_train)\r\n",
        "neigh_pred=neigh.predict(X_test)\r\n",
        "print(\"Training set score: {:.2f}\".format(neigh.score(X_train, y_train)))\r\n",
        "print(\"Test set score: {:.2f}\".format(neigh.score(X_test, y_test)))\r\n",
        "print(\"Test set R^2: {:.2f}\".format(neigh.score(X_test, y_test)))\r\n",
        "#MAE-Lower values are better.\r\n",
        "print(\"MAE: {:.2f}\".format(mean_absolute_error(y_test, neigh_pred)))\r\n",
        "print(\"RMSE: {:.2f}\".format(mean_squared_error(y_test, neigh_pred, squared=False)))"
      ],
      "outputs": [
        {
          "output_type": "stream",
          "name": "stdout",
          "text": [
            "Training set score: 0.68\n",
            "Test set score: 0.50\n",
            "Test set R^2: 0.50\n",
            "MAE: 32.60\n",
            "RMSE: 71.02\n"
          ]
        }
      ],
      "metadata": {
        "colab": {
          "base_uri": "https://localhost:8080/"
        },
        "id": "pl3yzWRSFNlh",
        "outputId": "64535b79-01e7-4747-f2cf-eb1864926b51"
      }
    },
    {
      "cell_type": "code",
      "execution_count": 14,
      "source": [
        "# SVR\r\n",
        "svr = SVR(kernel='poly', C=100, gamma='auto', degree=3, epsilon=.1,\r\n",
        "               coef0=1).fit(X_train,y_train)\r\n",
        "svr_pred=svr.predict(X_test)\r\n",
        "print(\"Training set score: {:.2f}\".format(svr.score(X_train, y_train)))\r\n",
        "print(\"Test set score: {:.2f}\".format(svr.score(X_test, y_test)))\r\n",
        "print(\"Test set R^2: {:.2f}\".format(svr.score(X_test, y_test)))\r\n",
        "print(\"MAE: {:.2f}\".format(mean_absolute_error(y_test, svr_pred)))\r\n",
        "print(\"RMSE: {:.2f}\".format(mean_squared_error(y_test, svr_pred, squared=False)))"
      ],
      "outputs": [
        {
          "output_type": "stream",
          "name": "stdout",
          "text": [
            "Training set score: 0.10\n",
            "Test set score: 0.10\n",
            "Test set R^2: 0.10\n",
            "MAE: 42.07\n",
            "RMSE: 94.99\n"
          ]
        }
      ],
      "metadata": {
        "colab": {
          "base_uri": "https://localhost:8080/"
        },
        "id": "OQ5wf_af_wz3",
        "outputId": "c7d11f12-feb8-4286-e197-2e90a42ebae0"
      }
    },
    {
      "cell_type": "code",
      "execution_count": 15,
      "source": [
        "# Random Forest Regressor\r\n",
        "rfg = RandomForestRegressor(random_state=1).fit(X_train,y_train)\r\n",
        "rfg_pred=rfg.predict(X_test)\r\n",
        "print(\"Training set score: {:.2f}\".format(rfg.score(X_train, y_train)))\r\n",
        "print(\"Test set score: {:.2f}\".format(rfg.score(X_test, y_test)))\r\n",
        "print(\"Test set R^2: {:.2f}\".format(rfg.score(X_test, y_test)))\r\n",
        "print(\"MAE: {:.2f}\".format(mean_absolute_error(y_test, rfg_pred)))\r\n",
        "print(\"RMSE: {:.2f}\".format(mean_squared_error(y_test, rfg_pred, squared=False)))"
      ],
      "outputs": [
        {
          "output_type": "stream",
          "name": "stdout",
          "text": [
            "Training set score: 0.94\n",
            "Test set score: 0.55\n",
            "Test set R^2: 0.55\n",
            "MAE: 31.94\n",
            "RMSE: 66.89\n"
          ]
        }
      ],
      "metadata": {
        "colab": {
          "base_uri": "https://localhost:8080/"
        },
        "id": "CAHjUGpWFNli",
        "outputId": "e3da4ee0-82a7-4909-ced3-03170e69e33e"
      }
    }
  ]
}